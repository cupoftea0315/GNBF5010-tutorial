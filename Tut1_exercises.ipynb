{
 "cells": [
  {
   "cell_type": "markdown",
   "metadata": {},
   "source": [
    "### GNBF5010 Tutorial 1 - Exercises for Lecture 1 & 2"
   ]
  },
  {
   "cell_type": "markdown",
   "metadata": {},
   "source": [
    "1. Indentation"
   ]
  },
  {
   "cell_type": "code",
   "execution_count": 8,
   "metadata": {},
   "outputs": [
    {
     "name": "stdout",
     "output_type": "stream",
     "text": [
      "Your grade is A.\n"
     ]
    }
   ],
   "source": [
    "A_score, B_score, C_score, D_score = 70, 60, 50, 40\n",
    "score = int(input(\"input your exam grade:\"))\n",
    "\n",
    "if score >= A_score:\n",
    "    print('Your grade is A.')\n",
    "else:\n",
    "    if score >= B_score:\n",
    "        print('Your grade is B.')\n",
    "    else:\n",
    "        if score >= C_score:\n",
    "            print('Your grade is C.')\n",
    "        else:\n",
    "            if score >= D_score:\n",
    "                print('Your grade is D.')\n",
    "            else:\n",
    "                print('Your grade is F.')"
   ]
  },
  {
   "cell_type": "markdown",
   "metadata": {},
   "source": [
    "2. String"
   ]
  },
  {
   "cell_type": "code",
   "execution_count": 10,
   "metadata": {},
   "outputs": [
    {
     "name": "stdout",
     "output_type": "stream",
     "text": [
      "xyc abz\n"
     ]
    }
   ],
   "source": [
    "str1 = \"abc\"\n",
    "str2 = \"xyz\"\n",
    "new_str = str2[:-1] + str1[-1:] + \" \" + str1[:-1] + str2[-1:]\n",
    "print(new_str)"
   ]
  },
  {
   "cell_type": "markdown",
   "metadata": {},
   "source": [
    "3. Input function and if-else"
   ]
  },
  {
   "cell_type": "code",
   "execution_count": 12,
   "metadata": {},
   "outputs": [
    {
     "name": "stdout",
     "output_type": "stream",
     "text": [
      "rectangle-1: 5.0*8.0\n",
      "rectangle-2: 9.0*2.0\n",
      "rectangle-1 has a greater area than rectangle-2.\n"
     ]
    }
   ],
   "source": [
    "length1 = float(input(\"input the length of rectangle-1:\"))\n",
    "width1 = float(input(\"input the width of rectangle-1:\"))\n",
    "length2 = float(input(\"input the length of rectangle-2:\"))\n",
    "width2 = float(input(\"input the width of rectangle-2:\"))\n",
    "print(f\"rectangle-1: {length1}*{width1}\\nrectangle-2: {length2}*{width2}\")\n",
    "if length1 * width1 > length2 * width2:\n",
    "    print(\"rectangle-1 has a greater area than rectangle-2.\")\n",
    "elif length1 * width1 < length2 * width2:\n",
    "    print(\"rectangle-2 has a greater area than rectangle-1.\")\n",
    "else:\n",
    "    print(\"rectangles-1 and rectangle-2 have equal areas.\")"
   ]
  },
  {
   "cell_type": "markdown",
   "metadata": {},
   "source": [
    "4. for loop"
   ]
  },
  {
   "cell_type": "code",
   "execution_count": 17,
   "metadata": {},
   "outputs": [
    {
     "name": "stdout",
     "output_type": "stream",
     "text": [
      "Starting number: 5\n",
      "Ending number: 14\n",
      "Print even or odd numbers? even\n",
      "6\n",
      "8\n",
      "10\n",
      "12\n",
      "14\n"
     ]
    }
   ],
   "source": [
    "start = int(input(\"enter the starting number (integer):\"))\n",
    "end = int(input(\"enter the ending number (integer):\"))\n",
    "while True:\n",
    "    decision = input(\"Enter the word 'even' or 'odd': \").strip().lower()\n",
    "    if decision == 'even' or decision == 'odd':\n",
    "        break\n",
    "    else:\n",
    "        print(\"Please enter 'even' or 'odd'.\")\n",
    "print(f\"Starting number: {start}\\nEnding number: {end}\\nPrint even or odd numbers? {decision}\")\n",
    "if decision == \"even\":\n",
    "    for i in range(start, end +1):\n",
    "        if i % 2 == 0:\n",
    "            print(i)\n",
    "else:\n",
    "    for i in range(start, end + 1):\n",
    "        if i % 2 == 1:\n",
    "            print(i)"
   ]
  },
  {
   "cell_type": "markdown",
   "metadata": {},
   "source": [
    "5. while-loop"
   ]
  },
  {
   "cell_type": "code",
   "execution_count": 24,
   "metadata": {},
   "outputs": [
    {
     "name": "stdout",
     "output_type": "stream",
     "text": [
      "Enter an item price: 1\n",
      "Tax on this item is 0.07; new price is 1.07\n",
      "Would you like to enter another value? Type 'q' to quit; otherwise continue:\n",
      "\n",
      "Enter an item price: 2\n",
      "Tax on this item is 0.14; new price is 2.14\n",
      "Would you like to enter another value? Type 'q' to quit; otherwise continue:\n",
      "\n",
      "Enter an item price: 3\n",
      "Tax on this item is 0.21; new price is 3.21\n",
      "Would you like to enter another value? Type 'q' to quit; otherwise continue:\n",
      "\n",
      "-------\n",
      "Total amount due: 6.42\n"
     ]
    }
   ],
   "source": [
    "Total_amount = 0\n",
    "while True:\n",
    "    spike = input(\"Enter an item price:\")\n",
    "    if spike == \"q\":\n",
    "        print(f\"-------\\nTotal amount due: {round(Total_amount, 2)}\")\n",
    "        break\n",
    "    price = int(spike)\n",
    "    Tax = price * 0.07\n",
    "    new_price = price + Tax\n",
    "    print(f\"Enter an item price: {price}\\nTax on this item is {round(Tax, 2)}; new price is {round(new_price, 2)}\\nWould you like to enter another value? Type 'q' to quit; otherwise continue:\\n\")\n",
    "    Total_amount += new_price"
   ]
  }
 ],
 "metadata": {
  "kernelspec": {
   "display_name": "base",
   "language": "python",
   "name": "python3"
  },
  "language_info": {
   "codemirror_mode": {
    "name": "ipython",
    "version": 3
   },
   "file_extension": ".py",
   "mimetype": "text/x-python",
   "name": "python",
   "nbconvert_exporter": "python",
   "pygments_lexer": "ipython3",
   "version": "3.11.7"
  }
 },
 "nbformat": 4,
 "nbformat_minor": 2
}
